{
 "cells": [
  {
   "cell_type": "code",
   "execution_count": null,
   "id": "73c29ca5",
   "metadata": {},
   "outputs": [],
   "source": [
    "%matplotlib inline\n",
    "import pandas as pd\n",
    "import numpy as np\n",
    "import matplotlib.pyplot as plt\n",
    "import seaborn as sns\n",
    "from scipy.stats import zscore\n",
    "from sklearn.model_selection import train_test_split,KFold, cross_val_score\n",
    "from sklearn.linear_model import  LinearRegression\n",
    "from sklearn.preprocessing import PolynomialFeatures\n",
    "from sklearn.metrics import mean_squared_error, mean_absolute_error, mean_absolute_percentage_error, r2_score\n",
    "from sklearn.pipeline import make_pipeline\n",
    "\n"
   ]
  },
  {
   "cell_type": "code",
   "execution_count": null,
   "id": "7a26ad2c",
   "metadata": {},
   "outputs": [],
   "source": [
    "df = pd.read_csv(\"winequality.csv\")\n",
    "print(df.head())\n",
    "print(df.info())"
   ]
  },
  {
   "cell_type": "code",
   "execution_count": null,
   "id": "fbef0b27",
   "metadata": {},
   "outputs": [],
   "source": [
    "print(df.describe())"
   ]
  },
  {
   "cell_type": "code",
   "execution_count": null,
   "id": "66cbfdda",
   "metadata": {},
   "outputs": [],
   "source": [
    "print(df.isnull().sum())"
   ]
  },
  {
   "cell_type": "code",
   "execution_count": null,
   "id": "f6b9b80c",
   "metadata": {},
   "outputs": [],
   "source": [
    "for col, value in df.items():\n",
    "    if col != 'type':\n",
    "        df[col] = df[col].fillna(df[col].mean())"
   ]
  },
  {
   "cell_type": "code",
   "execution_count": null,
   "id": "b060418f",
   "metadata": {},
   "outputs": [],
   "source": [
    "df.isnull().sum()"
   ]
  },
  {
   "cell_type": "code",
   "execution_count": null,
   "id": "a4f91884",
   "metadata": {},
   "outputs": [],
   "source": [
    "fig, ax = plt.subplots(ncols = 6, nrows = 2 , figsize = (20,10))\n",
    "index = 0\n",
    "ax = ax.flatten()\n",
    "\n",
    "for col, value in df.items():\n",
    "    if col != 'type':\n",
    "        sns.boxplot(y=col, data = df, ax = ax[index])\n",
    "        index +=1\n",
    "plt.tight_layout(pad=0.5, w_pad=0.7, h_pad=5.0)"
   ]
  },
  {
   "cell_type": "code",
   "execution_count": null,
   "id": "80794f25",
   "metadata": {},
   "outputs": [],
   "source": [
    "# Copy original data (excluding non-numeric columns)\n",
    "df_z = df.select_dtypes(include=[np.number]).copy()\n",
    "\n",
    "# Compute z-scores\n",
    "z_scores = np.abs(zscore(df_z))\n",
    "\n",
    "# Define threshold\n",
    "threshold = 3\n",
    "\n",
    "# Replace outliers with upper/lower limits\n",
    "for i, col in enumerate(df_z.columns):\n",
    "    col_mean = df_z[col].mean()\n",
    "    col_std = df_z[col].std()\n",
    "    upper_limit = col_mean + threshold * col_std\n",
    "    lower_limit = col_mean - threshold * col_std\n",
    "\n",
    "    # Replace values outside the threshold\n",
    "    df_z[col] = np.where(z_scores[:, i] > threshold,\n",
    "                         np.where(df_z[col] > upper_limit, upper_limit, lower_limit),\n",
    "                         df_z[col])\n",
    "\n",
    "# Now df_z contains data with outliers capped\n",
    "print(\"✅ Outliers handled using Z-score method.\")\n",
    "\n",
    "# Optionally, you can replace the original df values:\n",
    "# df[df_z.columns] = df_z\n"
   ]
  },
  {
   "cell_type": "code",
   "execution_count": null,
   "id": "9a5ab28e",
   "metadata": {},
   "outputs": [],
   "source": [
    "plt.figure(figsize =(12,8))\n",
    "sns.heatmap(df.corr(numeric_only = True),annot = True, cmap ='coolwarm')\n",
    "plt.title(\"Correlation Heatmap\")\n",
    "plt.show()\n"
   ]
  },
  {
   "cell_type": "code",
   "execution_count": null,
   "id": "933c04b5",
   "metadata": {},
   "outputs": [],
   "source": [
    "fig, ax = plt.subplots(ncols = 6, nrows = 2 , figsize = (20,10))\n",
    "index = 0\n",
    "ax = ax.flatten()\n",
    "\n",
    "for col, value in df.items():\n",
    "    if col != 'type':\n",
    "        sns.distplot(value, ax=ax[index])\n",
    "        index +=1\n",
    "plt.tight_layout(pad=0.5, w_pad=0.7, h_pad=5.0)"
   ]
  },
  {
   "cell_type": "code",
   "execution_count": null,
   "id": "370a7836",
   "metadata": {},
   "outputs": [],
   "source": [
    "X = df.drop(columns =['type','quality'])\n",
    "y = df['quality']"
   ]
  },
  {
   "cell_type": "code",
   "execution_count": null,
   "id": "d7347857",
   "metadata": {},
   "outputs": [],
   "source": [
    "y.value_counts()"
   ]
  },
  {
   "cell_type": "code",
   "execution_count": null,
   "id": "02a4a0cb",
   "metadata": {},
   "outputs": [],
   "source": [
    "from imblearn.over_sampling import SMOTE\n",
    "oversample = SMOTE(k_neighbors=4)\n",
    "# transform the dataset\n",
    "X, y = oversample.fit_resample(X, y)"
   ]
  },
  {
   "cell_type": "code",
   "execution_count": null,
   "id": "88a8e5d2",
   "metadata": {},
   "outputs": [],
   "source": [
    "y.value_counts()"
   ]
  },
  {
   "cell_type": "code",
   "execution_count": null,
   "id": "674687d5",
   "metadata": {},
   "outputs": [],
   "source": [
    "df.replace([np.inf,-np.inf],np.nan,inplace = True)\n",
    "df.dropna(inplace=True)\n",
    "# Remove or encode non-numeric column\n",
    "df.columns = df.columns.str.strip()  # remove any leading/trailing spaces\n",
    "\n",
    "if 'type' in df.columns:\n",
    "    df = pd.get_dummies(df, columns=['type'], drop_first=True)\n",
    "\n",
    "X_simple = df[['free sulfur dioxide']]  \n",
    "X_multi = df[['free sulfur dioxide','type_white']]\n",
    "y = df['total sulfur dioxide'] "
   ]
  },
  {
   "cell_type": "code",
   "execution_count": null,
   "id": "2ea6c091",
   "metadata": {},
   "outputs": [],
   "source": [
    "# Train-test split\n",
    "x_train, x_test, y_train, y_test = train_test_split(X_simple, y, test_size=0.25, random_state=42)\n",
    "\n",
    "# Train model\n",
    "model_simple = LinearRegression()\n",
    "model_simple.fit(x_train, y_train)\n",
    "y_pred = model_simple.predict(x_test)\n",
    "\n",
    "# Evaluation metrics\n",
    "mse_simple = mean_squared_error(y_test, y_pred)\n",
    "rmse_simple = np.sqrt(mse_simple)\n",
    "mae = mean_absolute_error(y_test, y_pred)\n",
    "mape = mean_absolute_percentage_error(y_test, y_pred)\n",
    "r2 = r2_score(y_test, y_pred)\n",
    "\n",
    "# Print results\n",
    "print(\"📘 Simple Linear Regression on 'residual sugar'\")\n",
    "print(f\"R² Score      : {r2:.4f}\")\n",
    "print(f\"MSE           : {mse_simple:.4f}\")\n",
    "print(f\"RMSE          : {rmse_simple:.4f}\")\n",
    "print(f\"MAE           : {mae:.4f}\")\n",
    "print(f\"MAPE          : {mape * 100:.2f}%\")\n"
   ]
  },
  {
   "cell_type": "code",
   "execution_count": null,
   "id": "cb0d907f",
   "metadata": {},
   "outputs": [],
   "source": [
    "plt.figure(figsize=(10, 5))\n",
    "plt.plot(np.arange(len(y_test)), y_test.values, color='blue', label='Actual')\n",
    "plt.plot(np.arange(len(y_test)), y_pred, color='red', alpha=0.6, label='Predicted')\n",
    "plt.title(\"🔍 Simple Linear Regression Line Graph\")\n",
    "plt.xlabel(\"Index\")\n",
    "plt.ylabel(\"Quality\")\n",
    "plt.legend()\n",
    "plt.grid(True)\n",
    "plt.tight_layout()\n",
    "plt.show()\n"
   ]
  },
  {
   "cell_type": "code",
   "execution_count": null,
   "id": "dc6ad0d9",
   "metadata": {},
   "outputs": [],
   "source": [
    "x_train, x_test, y_train, y_test = train_test_split(X_multi, y, test_size=0.25, random_state=42)\n",
    "\n",
    "model_multi = LinearRegression()\n",
    "model_multi.fit(x_train, y_train)\n",
    "y_pred = model_multi.predict(x_test)\n",
    "\n",
    "mse = mean_squared_error(y_test, y_pred)\n",
    "rmse = np.sqrt(mse)\n",
    "mae = mean_absolute_error(y_test, y_pred)\n",
    "mape = mean_absolute_percentage_error(y_test, y_pred)\n",
    "r2 = r2_score(y_test, y_pred)\n",
    "\n",
    "print(\"📘 Multiple Linear Regression\")\n",
    "print(f\"R² Score: {r2:.4f}\")\n",
    "print(f\"MSE     : {mse:.4f}\")\n",
    "print(f\"RMSE    : {rmse:.4f}\")\n",
    "print(f\"MAE     : {mae:.4f}\")\n",
    "print(f\"MAPE    : {mape * 100:.2f}%\")"
   ]
  },
  {
   "cell_type": "code",
   "execution_count": null,
   "id": "b2f12928",
   "metadata": {},
   "outputs": [],
   "source": [
    "plt.figure(figsize=(10, 5))\n",
    "plt.plot(np.arange(len(y_test)), y_test.values, color='blue', label='Actual')\n",
    "plt.plot(np.arange(len(y_test)), y_pred, color='orange', alpha=0.6, label='Predicted')\n",
    "plt.title('Multiple Linear Regression – Line Graph Over Index')\n",
    "plt.xlabel('Index')\n",
    "plt.ylabel('Quality')\n",
    "plt.legend()\n",
    "plt.grid(True)\n",
    "plt.tight_layout()\n",
    "plt.show()"
   ]
  },
  {
   "cell_type": "code",
   "execution_count": null,
   "id": "03b3721c",
   "metadata": {},
   "outputs": [],
   "source": [
    "# Polynomial transformation (Degree 2)\n",
    "poly = PolynomialFeatures(degree=2)\n",
    "X_poly = poly.fit_transform(X_simple)\n",
    "\n",
    "# Train-test split\n",
    "x_train, x_test, y_train, y_test = train_test_split(X_poly, y, test_size=0.25, random_state=42)\n",
    "\n",
    "# Train model\n",
    "model_poly = LinearRegression()\n",
    "model_poly.fit(x_train, y_train)\n",
    "y_pred = model_poly.predict(x_test)\n",
    "\n",
    "# Evaluation metrics\n",
    "mse = mean_squared_error(y_test, y_pred)\n",
    "rmse = np.sqrt(mse)\n",
    "mae = mean_absolute_error(y_test, y_pred)\n",
    "mape = mean_absolute_percentage_error(y_test, y_pred)\n",
    "r2 = r2_score(y_test, y_pred)\n",
    "\n",
    "# Print results\n",
    "print(\"📘 Polynomial Regression (Degree = 4) on 'residual sugar'\")\n",
    "print(f\"R² Score: {r2:.4f}\")\n",
    "print(f\"MSE     : {mse:.4f}\")\n",
    "print(f\"RMSE    : {rmse:.4f}\")\n",
    "print(f\"MAE     : {mae:.4f}\")\n",
    "print(f\"MAPE    : {mape * 100:.2f}%\")"
   ]
  },
  {
   "cell_type": "code",
   "execution_count": null,
   "id": "17d579d8",
   "metadata": {},
   "outputs": [],
   "source": [
    "plt.figure(figsize=(10, 5))\n",
    "plt.plot(np.arange(len(y_test)), y_test.values, color='blue', label='Actual')\n",
    "plt.plot(np.arange(len(y_test)), y_pred, color='green', alpha=0.6, label='Predicted (Poly)')\n",
    "plt.title('Polynomial Regression (Degree 4) – Line Graph Over Index')\n",
    "plt.xlabel('Index')\n",
    "plt.ylabel('Quality')\n",
    "plt.legend()\n",
    "plt.grid(True)\n",
    "plt.tight_layout()\n",
    "plt.show()"
   ]
  },
  {
   "cell_type": "code",
   "execution_count": null,
   "id": "24cf74df",
   "metadata": {},
   "outputs": [],
   "source": [
    "# Simple Linear Regression\n",
    "mse_simple = mse_simple\n",
    "rmse_simple = rmse_simple\n",
    "mape_simple = mape * 100  # already done in your code\n",
    "\n",
    "# Multiple Linear Regression\n",
    "mse_multi = mse\n",
    "rmse_multi = rmse\n",
    "mape_multi = mape * 100\n",
    "\n",
    "# Polynomial Regression\n",
    "mse_poly = mse\n",
    "rmse_poly = rmse\n",
    "mape_poly = mape * 100\n"
   ]
  },
  {
   "cell_type": "code",
   "execution_count": null,
   "id": "52238c94",
   "metadata": {},
   "outputs": [],
   "source": [
    "import matplotlib.pyplot as plt\n",
    "import numpy as np\n",
    "\n",
    "# Model labels\n",
    "models = ['Simple Linear', 'Multiple Linear', 'Polynomial (deg=2)']\n",
    "\n",
    "mae_values = [mse_simple, mse_multi, mse_poly]\n",
    "rmse_values = [rmse_simple, rmse_multi, rmse_poly]\n",
    "\n",
    "\n",
    "# Bar width and x-axis setup\n",
    "x = np.arange(len(models))  # the label locations\n",
    "bar_width = 0.35\n",
    "\n",
    "# Plot\n",
    "plt.figure(figsize=(8, 6))\n",
    "plt.bar(x - bar_width/2, mae_values, bar_width, label='MAE', color='skyblue')\n",
    "plt.bar(x + bar_width/2, rmse_values, bar_width, label='RMSE', color='salmon')\n",
    "\n",
    "# Labels and formatting\n",
    "plt.ylabel('Error in $')\n",
    "plt.title('Model Comparison - Error Metrics (Lower is better)')\n",
    "plt.xticks(x, models)\n",
    "plt.legend()\n",
    "plt.grid(axis='y', linestyle='--', alpha=0.6)\n",
    "\n",
    "# Add text labels on top of bars\n",
    "for i in range(len(models)):\n",
    "    plt.text(x[i] - bar_width/2, mae_values[i] + 500, f'{mae_values[i]:,}', ha='center', va='bottom')\n",
    "    plt.text(x[i] + bar_width/2, rmse_values[i] + 500, f'{rmse_values[i]:,}', ha='center', va='bottom')\n",
    "\n",
    "plt.tight_layout()\n",
    "plt.show()\n"
   ]
  },
  {
   "cell_type": "code",
   "execution_count": null,
   "id": "0d799247",
   "metadata": {},
   "outputs": [],
   "source": [
    "\n",
    "\n",
    "# Assuming X_multi and y are already defined\n",
    "model_multi = LinearRegression()\n",
    "\n",
    "# Store results\n",
    "split_range = range(3, 11)\n",
    "average_r2_scores = []\n",
    "\n",
    "for n in split_range:\n",
    "    kfold = KFold(n_splits=n, shuffle=True, random_state=42)\n",
    "    scores = cross_val_score(model_multi, X_multi, y, cv=kfold, scoring='r2')\n",
    "    average_score = scores.mean()\n",
    "    average_r2_scores.append(average_score)\n",
    "    \n",
    "    # Print individual R2 scores\n",
    "    print(f\"\\nK-Fold Split = {n}\")\n",
    "    print(\"R2 Scores:\", scores)\n",
    "    print(\"Average R2 Score:\", average_score)\n",
    "\n",
    "# Plotting the average R² scores\n",
    "plt.figure(figsize=(8, 5))\n",
    "plt.plot(split_range, average_r2_scores, marker='o', color='blue', linestyle='-')\n",
    "plt.title('Average R² Score vs. Number of K-Folds')\n",
    "plt.xlabel('Number of Splits (K)')\n",
    "plt.ylabel('Average R² Score')\n",
    "plt.grid(True)\n",
    "plt.xticks(split_range)\n",
    "plt.tight_layout()\n",
    "plt.show()\n"
   ]
  }
 ],
 "metadata": {
  "kernelspec": {
   "display_name": "Python 3",
   "language": "python",
   "name": "python3"
  },
  "language_info": {
   "codemirror_mode": {
    "name": "ipython",
    "version": 3
   },
   "file_extension": ".py",
   "mimetype": "text/x-python",
   "name": "python",
   "nbconvert_exporter": "python",
   "pygments_lexer": "ipython3",
   "version": "3.13.5"
  }
 },
 "nbformat": 4,
 "nbformat_minor": 5
}
